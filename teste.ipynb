{
 "cells": [
  {
   "cell_type": "code",
   "execution_count": 21,
   "metadata": {},
   "outputs": [
    {
     "data": {
      "text/plain": [
       "[['4,40', 'D'],\n",
       " ['0,00', 'D'],\n",
       " ['17.460,28', 'C'],\n",
       " ['0,00', 'D'],\n",
       " ['0,00', 'D'],\n",
       " ['0,90', 'D'],\n",
       " ['0,90', 'D'],\n",
       " ['0,00', 'D'],\n",
       " ['0,00', ''],\n",
       " ['0,00', ''],\n",
       " ['0,00', ''],\n",
       " ['0,87', ''],\n",
       " ['0,00', 'C'],\n",
       " ['0,00', 'D'],\n",
       " ['17.459,38', 'C']]"
      ]
     },
     "execution_count": 21,
     "metadata": {},
     "output_type": "execute_result"
    }
   ],
   "source": [
    "import pdfplumber\n",
    "\n",
    "pdf = pdfplumber.open(\"4.pdf\")\n",
    "page = pdf.pages[2]\n",
    "\n",
    "\n",
    "table_resumo_financeiro = page.crop((506, 470, page.width, 650))\n",
    "table_resumo_financeiro.to_image(resolution=300).draw_vlines([ 515,546, 559])\n",
    "table_resumo_financeiro.to_image(resolution=300).draw_hlines([ 480, 489, 498, 516, 525, 534, 543,  570, 579, 588, 598, 607.5, 616.5, 625, 639, 648])\n",
    "\n",
    "\n",
    "table_resumo_financeiro.extract_table({\n",
    "    \"vertical_strategy\": \"explicit\",\n",
    "    \"horizontal_strategy\": \"explicit\",\n",
    "    \"explicit_vertical_lines\": [ 515,546, 559],\n",
    "    \"explicit_horizontal_lines\": [ 480, 489, 498, 516, 525, 534, 543,  570, 579, 588, 598, 607.5, 616.5, 625, 639, 648]\n",
    "    \n",
    "})\n",
    "\n",
    "\n"
   ]
  },
  {
   "cell_type": "code",
   "execution_count": null,
   "metadata": {},
   "outputs": [],
   "source": []
  },
  {
   "cell_type": "code",
   "execution_count": null,
   "metadata": {},
   "outputs": [],
   "source": []
  }
 ],
 "metadata": {
  "kernelspec": {
   "display_name": "Python 3",
   "language": "python",
   "name": "python3"
  },
  "language_info": {
   "codemirror_mode": {
    "name": "ipython",
    "version": 3
   },
   "file_extension": ".py",
   "mimetype": "text/x-python",
   "name": "python",
   "nbconvert_exporter": "python",
   "pygments_lexer": "ipython3",
   "version": "3.11.4"
  }
 },
 "nbformat": 4,
 "nbformat_minor": 2
}
